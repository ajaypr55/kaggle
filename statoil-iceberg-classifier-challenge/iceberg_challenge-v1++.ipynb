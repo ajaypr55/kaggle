{
 "cells": [
  {
   "cell_type": "markdown",
   "metadata": {},
   "source": [
    "# '''Trains a simple convnet on the kaggle Statoil/C-CORE Iceberg Classifier Challenge dataset.\n",
    "Gets to 99.25% test accuracy after 12 epochs\n",
    "(there is still a lot of margin for parameter tuning).\n",
    "16 seconds per epoch on a GRID K520 GPU.\n",
    "'''"
   ]
  },
  {
   "cell_type": "code",
   "execution_count": 1,
   "metadata": {
    "collapsed": false
   },
   "outputs": [
    {
     "name": "stderr",
     "output_type": "stream",
     "text": [
      "Using TensorFlow backend.\n"
     ]
    }
   ],
   "source": [
    "from __future__ import print_function\n",
    "import keras\n",
    "from keras.models import Sequential\n",
    "from keras.layers import Dense, Dropout, Flatten\n",
    "from keras.layers import Conv2D, MaxPooling2D\n",
    "from keras import backend as K\n",
    "import pickle\n",
    "from sklearn.cross_validation import train_test_split\n",
    "from keras.layers.normalization import BatchNormalization\n",
    "from keras.models import model_from_json\n",
    "import pandas as pd\n",
    "import numpy as np\n",
    "import tqdm"
   ]
  },
  {
   "cell_type": "code",
   "execution_count": 2,
   "metadata": {
    "collapsed": true
   },
   "outputs": [],
   "source": [
    "batch_size = 10\n",
    "num_classes = 1\n",
    "epochs = 12\n",
    "\n",
    "# input image dimensions\n",
    "img_rows, img_cols = 75, 75"
   ]
  },
  {
   "cell_type": "code",
   "execution_count": 3,
   "metadata": {
    "collapsed": true
   },
   "outputs": [],
   "source": [
    "# Load Data from JSON\n",
    "def get_data():\n",
    "  print (\"Loading Data....\")\n",
    "  train = pd.read_json('data/train.json')\n",
    "  x_train=[]\n",
    "  for index, row in train.iterrows():\n",
    "    x_train.append([np.array(row['band_1']).reshape(75,75), np.array(row['band_2']).reshape(75,75)])\n",
    "  x_train=np.array(x_train)\n",
    "\n",
    "  test = pd.read_json('data/test.json')\n",
    "  x_test=[]\n",
    "  for index, row in test.iterrows():\n",
    "    x_test.append([np.array(row['band_1']).reshape(75,75), np.array(row['band_2']).reshape(75,75)])\n",
    "  x_test=np.array(x_test)\n",
    "\n",
    "  y_train=np.array(train['is_iceberg'])\n",
    "  test_ids=np.array(test['id'])\n",
    "\n",
    "  print (\"Loading Complete.\")\n",
    "\n",
    "  print('x_train shape:', x_train.shape)\n",
    "  print('y_train shape:', y_train.shape)\n",
    "  print(x_train.shape[0], 'train samples')\n",
    "  print(x_test.shape[0], 'test samples')\n",
    "\n",
    "  return x_train, y_train, x_test, test_ids"
   ]
  },
  {
   "cell_type": "code",
   "execution_count": 4,
   "metadata": {
    "collapsed": false
   },
   "outputs": [
    {
     "name": "stdout",
     "output_type": "stream",
     "text": [
      "Loading Data....\n",
      "Loading Complete.\n",
      "x_train shape: (1604, 2, 75, 75)\n",
      "y_train shape: (1604,)\n",
      "1604 train samples\n",
      "8424 test samples\n"
     ]
    }
   ],
   "source": [
    "# the data, shuffled and split between train and test sets\n",
    "# # x_train, x_test, y_train, y_test = train_test_split(x, y, test_size=0.3, random_state=42)\n",
    "# # (x_train, y_train), (x_test, y_test) = mnist.load_data()\n",
    "\n",
    "x_train, y_train, x_test, test_ids=get_data()"
   ]
  },
  {
   "cell_type": "code",
   "execution_count": 5,
   "metadata": {
    "collapsed": true
   },
   "outputs": [],
   "source": [
    "\n",
    "if K.image_data_format() == 'channels_first':\n",
    "    x_train = x_train.reshape(x_train.shape[0], 2, img_rows, img_cols)\n",
    "    x_test = x_test.reshape(x_test.shape[0], 2, img_rows, img_cols)\n",
    "    input_shape = (2, img_rows, img_cols)\n",
    "else:\n",
    "    x_train = x_train.reshape(x_train.shape[0], img_rows, img_cols, 2)\n",
    "    x_test = x_test.reshape(x_test.shape[0], img_rows, img_cols, 2)\n",
    "    input_shape = (img_rows, img_cols, 2)\n",
    "\n",
    "x_train = x_train.astype('float32')\n",
    "x_test = x_test.astype('float32')"
   ]
  },
  {
   "cell_type": "code",
   "execution_count": 6,
   "metadata": {
    "collapsed": true
   },
   "outputs": [],
   "source": [
    "# convert class vectors to binary class matrices\n",
    "# y_train = keras.utils.to_categorical(y_train, num_classes)\n",
    "# y_test = keras.utils.to_categorical(y_test, num_classes)\n",
    "# print(y_train.shape[0], 'train labels')\n",
    "# # print(y_test.shape[0], 'test labels')\n",
    "\n",
    "def train():\n",
    "  model = Sequential()\n",
    "  model.add(BatchNormalization(input_shape=input_shape))\n",
    "  model.add(Conv2D(16, kernel_size=(3, 3),\n",
    "                   activation='relu'))#,\n",
    "                   # input_shape=input_shape))\n",
    "  model.add(BatchNormalization())\n",
    "  model.add(Conv2D(32, (3, 3), activation='relu'))\n",
    "  model.add(BatchNormalization())\n",
    "  model.add(MaxPooling2D(pool_size=(2, 2)))\n",
    "  model.add(Dropout(0.25))\n",
    "  model.add(Flatten())\n",
    "  model.add(Dense(48, activation='relu'))\n",
    "  model.add(Dropout(0.5))\n",
    "  model.add(Dense(num_classes, activation='sigmoid'))\n",
    "\n",
    "  model.compile(loss=keras.losses.binary_crossentropy,\n",
    "                optimizer='rmsprop',\n",
    "                metrics=['accuracy'])\n",
    "  model.fit(x_train, y_train,\n",
    "            batch_size=batch_size,\n",
    "            epochs=epochs,\n",
    "            verbose=1\n",
    "            # ,validation_data=(x_test, y_test)\n",
    "            )\n",
    "  # score = model.evaluate(x_test, y_test, verbose=0)\n",
    "  # print('Test loss:', score[0])\n",
    "  # print('Test accuracy:', score[1])\n",
    "  return model\n"
   ]
  },
  {
   "cell_type": "code",
   "execution_count": 7,
   "metadata": {
    "collapsed": true
   },
   "outputs": [],
   "source": [
    "\n",
    "def save_model(model, path='model.json'):\n",
    "  # serialize model to JSON\n",
    "  model_json = model.to_json()\n",
    "  with open(path, \"w\") as json_file:\n",
    "      json_file.write(model_json)\n",
    "  # serialize weights to HDF5\n",
    "  model.save_weights(\"model.h5\")\n",
    "  print(\"Saved model to disk\")"
   ]
  },
  {
   "cell_type": "code",
   "execution_count": 8,
   "metadata": {
    "collapsed": true
   },
   "outputs": [],
   "source": [
    "# load json and create model\n",
    "def load_model(path='model.json'):\n",
    "  json_file = open(path, 'r')\n",
    "  model_json = json_file.read()\n",
    "  json_file.close()\n",
    "  model = model_from_json(model_json)\n",
    "  # load weights into new model\n",
    "  model.load_weights(\"model.h5\")\n",
    "  print(\"Loaded model from disk\")\n",
    "  return model"
   ]
  },
  {
   "cell_type": "code",
   "execution_count": 9,
   "metadata": {
    "collapsed": false
   },
   "outputs": [
    {
     "name": "stdout",
     "output_type": "stream",
     "text": [
      "Epoch 1/12\n",
      "1604/1604 [==============================] - 3s 2ms/step - loss: 6.5109 - acc: 0.5680\n",
      "Epoch 2/12\n",
      "1604/1604 [==============================] - 1s 875us/step - loss: 6.4025 - acc: 0.5935\n",
      "Epoch 3/12\n",
      "1604/1604 [==============================] - 1s 877us/step - loss: 7.5287 - acc: 0.5274\n",
      "Epoch 4/12\n",
      "1604/1604 [==============================] - 1s 879us/step - loss: 7.2788 - acc: 0.5324\n",
      "Epoch 5/12\n",
      "1604/1604 [==============================] - 1s 877us/step - loss: 6.8588 - acc: 0.5586\n",
      "Epoch 6/12\n",
      "1604/1604 [==============================] - 1s 880us/step - loss: 6.1651 - acc: 0.5985\n",
      "Epoch 7/12\n",
      "1604/1604 [==============================] - 1s 873us/step - loss: 6.0091 - acc: 0.6066\n",
      "Epoch 8/12\n",
      "1604/1604 [==============================] - 1s 876us/step - loss: 5.9012 - acc: 0.6091\n",
      "Epoch 9/12\n",
      "1604/1604 [==============================] - 1s 869us/step - loss: 6.0633 - acc: 0.6072\n",
      "Epoch 10/12\n",
      "1604/1604 [==============================] - 1s 875us/step - loss: 5.3608 - acc: 0.6403\n",
      "Epoch 11/12\n",
      "1604/1604 [==============================] - 1s 872us/step - loss: 4.9135 - acc: 0.6384\n",
      "Epoch 12/12\n",
      "1604/1604 [==============================] - 1s 877us/step - loss: 3.4860 - acc: 0.6640\n",
      "Saved model to disk\n",
      "Loaded model from disk\n",
      "Generating Submission File\n"
     ]
    }
   ],
   "source": [
    "def results():\n",
    "  print (\"Generating Submission File\")\n",
    "  y_test=model.predict(x_test)\n",
    "  submission = pd.DataFrame({'id': test_ids, 'is_iceberg': y_test.reshape((y_test.shape[0]))})\n",
    "  submission.to_csv(\"subv1.csv\", index=False)\n",
    "\n",
    "model=train()\n",
    "save_model(model)\n",
    "model=load_model('model.json')\n",
    "results()"
   ]
  },
  {
   "cell_type": "code",
   "execution_count": 11,
   "metadata": {
    "collapsed": false
   },
   "outputs": [],
   "source": [
    "#df_sub=pd.DataFrame(y_test)\n",
    "#df_sub.to_csv('subv1.csv')"
   ]
  },
  {
   "cell_type": "code",
   "execution_count": null,
   "metadata": {
    "collapsed": true
   },
   "outputs": [],
   "source": []
  }
 ],
 "metadata": {
  "kernelspec": {
   "display_name": "Python 3",
   "language": "python",
   "name": "python3"
  },
  "language_info": {
   "codemirror_mode": {
    "name": "ipython",
    "version": 3
   },
   "file_extension": ".py",
   "mimetype": "text/x-python",
   "name": "python",
   "nbconvert_exporter": "python",
   "pygments_lexer": "ipython3",
   "version": "3.5.4"
  }
 },
 "nbformat": 4,
 "nbformat_minor": 0
}
