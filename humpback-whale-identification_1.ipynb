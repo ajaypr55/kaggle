{
  "nbformat": 4,
  "nbformat_minor": 0,
  "metadata": {
    "colab": {
      "name": "Copy_of_Copy_of_Kaggle_API_access_example (1).ipynb",
      "version": "0.3.2",
      "provenance": [],
      "collapsed_sections": [],
      "include_colab_link": true
    },
    "kernelspec": {
      "name": "python3",
      "display_name": "Python 3"
    },
    "accelerator": "GPU"
  },
  "cells": [
    {
      "cell_type": "markdown",
      "metadata": {
        "id": "view-in-github",
        "colab_type": "text"
      },
      "source": [
        "<a href=\"https://colab.research.google.com/github/ajaypr55/kaggle/blob/master/humpback-whale-identification_1.ipynb\" target=\"_parent\"><img src=\"https://colab.research.google.com/assets/colab-badge.svg\" alt=\"Open In Colab\"/></a>"
      ]
    },
    {
      "metadata": {
        "id": "akJ8fvsfGVdn",
        "colab_type": "code",
        "outputId": "00764efe-c72f-42a0-9180-f62956c1629d",
        "colab": {
          "resources": {
            "http://localhost:8080/nbextensions/google.colab/files.js": {
              "data": "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",
              "ok": true,
              "headers": [
                [
                  "content-type",
                  "application/javascript"
                ]
              ],
              "status": 200,
              "status_text": ""
            }
          },
          "base_uri": "https://localhost:8080/",
          "height": 86
        }
      },
      "cell_type": "code",
      "source": [
        "# Run this cell and select the kaggle.json file downloaded\n",
        "# from the Kaggle account settings page.\n",
        "from google.colab import files\n",
        "files.upload()"
      ],
      "execution_count": 1,
      "outputs": [
        {
          "output_type": "display_data",
          "data": {
            "text/html": [
              "\n",
              "     <input type=\"file\" id=\"files-05fd41cb-cb46-4024-a22f-cee4b86bf21a\" name=\"files[]\" multiple disabled />\n",
              "     <output id=\"result-05fd41cb-cb46-4024-a22f-cee4b86bf21a\">\n",
              "      Upload widget is only available when the cell has been executed in the\n",
              "      current browser session. Please rerun this cell to enable.\n",
              "      </output>\n",
              "      <script src=\"/nbextensions/google.colab/files.js\"></script> "
            ],
            "text/plain": [
              "<IPython.core.display.HTML object>"
            ]
          },
          "metadata": {
            "tags": []
          }
        },
        {
          "output_type": "stream",
          "text": [
            "Saving kaggle.json to kaggle (2).json\n"
          ],
          "name": "stdout"
        },
        {
          "output_type": "execute_result",
          "data": {
            "text/plain": [
              "{'kaggle.json': b'{\"username\":\"ajay88\",\"key\":\"e59115f39668b085910a90197e69599f\"}'}"
            ]
          },
          "metadata": {
            "tags": []
          },
          "execution_count": 1
        }
      ]
    },
    {
      "metadata": {
        "id": "cDLXrqcNGlU7",
        "colab_type": "code",
        "outputId": "7d6c6dbc-0a1e-4b56-b540-1b9c82ad124e",
        "colab": {
          "base_uri": "https://localhost:8080/",
          "height": 34
        }
      },
      "cell_type": "code",
      "source": [
        "# Let's make sure the kaggle.json file is present.\n",
        "!ls -lha kaggle.json"
      ],
      "execution_count": 2,
      "outputs": [
        {
          "output_type": "stream",
          "text": [
            "-rw-r--r-- 1 root root 62 Dec 28 12:08 kaggle.json\n"
          ],
          "name": "stdout"
        }
      ]
    },
    {
      "metadata": {
        "id": "QITWh1N5GoqG",
        "colab_type": "code",
        "colab": {}
      },
      "cell_type": "code",
      "source": [
        "# Next, install the Kaggle API client.\n",
        "!pip install -q kaggle"
      ],
      "execution_count": 0,
      "outputs": []
    },
    {
      "metadata": {
        "id": "KixiXyagGy7Y",
        "colab_type": "code",
        "colab": {}
      },
      "cell_type": "code",
      "source": [
        "# The Kaggle API client expects this file to be in ~/.kaggle,\n",
        "# so move it there.\n",
        "!mkdir -p ~/.kaggle\n",
        "!cp kaggle.json ~/.kaggle/\n",
        "\n",
        "# This permissions change avoids a warning on Kaggle tool startup.\n",
        "!chmod 600 ~/.kaggle/kaggle.json"
      ],
      "execution_count": 0,
      "outputs": []
    },
    {
      "metadata": {
        "id": "rVkiNkoyLYPa",
        "colab_type": "code",
        "colab": {}
      },
      "cell_type": "code",
      "source": [
        "!rm -r data"
      ],
      "execution_count": 0,
      "outputs": []
    },
    {
      "metadata": {
        "id": "rPZaJ7oOGuyh",
        "colab_type": "code",
        "outputId": "b6b9afa2-2cac-4729-903c-db235f1801ec",
        "colab": {
          "base_uri": "https://localhost:8080/",
          "height": 411
        }
      },
      "cell_type": "code",
      "source": [
        "\"\"# List available datasets.\n",
        "!kaggle datasets list"
      ],
      "execution_count": 10,
      "outputs": [
        {
          "output_type": "stream",
          "text": [
            "ref                                                           title                                                size  lastUpdated          downloadCount  \n",
            "------------------------------------------------------------  --------------------------------------------------  -----  -------------------  -------------  \n",
            "spscientist/students-performance-in-exams                     Students Performance in Exams                         8KB  2018-11-09 18:25:25           8453  \n",
            "mehdidag/black-friday                                         Black Friday                                          5MB  2018-07-25 20:49:48          23323  \n",
            "szamil/who-suicide-statistics                                 WHO Suicide Statistics                              307KB  2018-08-29 21:23:11           6059  \n",
            "lava18/google-play-store-apps                                 Google Play Store Apps                                2MB  2018-09-18 20:49:49          28609  \n",
            "iarunava/happy-house-dataset                                  Happy House Dataset                                   7MB  2018-09-07 06:33:10           1530  \n",
            "kaggle/kaggle-survey-2018                                     2018 Kaggle ML & DS Survey Challenge                  4MB  2018-11-03 22:35:07           6656  \n",
            "jessicali9530/kuc-hackathon-winter-2018                       UCI ML Drug Review dataset                           40MB  2018-11-12 19:44:19            467  \n",
            "nguyenhoc/plane-crash                                         Historical Plane Crashes                            700KB  2018-11-21 04:32:41           1306  \n",
            "footprintnetwork/national-footprint-accounts-2018             National Footprint Accounts 2018                      3MB  2018-07-11 18:26:33           1028  \n",
            "thedownhill/art-images-drawings-painting-sculpture-engraving  Art Images: Drawing/Painting/Sculptures/Engravings  581MB  2018-05-25 18:00:50           1033  \n",
            "robikscube/hourly-energy-consumption                          Hourly Energy Consumption                            11MB  2018-08-30 14:17:03           2469  \n",
            "sid321axn/amazon-alexa-reviews                                Amazon Alexa Reviews                                164KB  2018-07-31 17:45:14           1237  \n",
            "jrobischon/wikipedia-movie-plots                              Wikipedia Movie Plots                                30MB  2018-10-15 19:59:54           1248  \n",
            "jkkphys/english-wikipedia-articles-20170820-sqlite            English Wikipedia Articles 2017-08-20 SQLite          7GB  2018-11-27 21:54:22            174  \n",
            "danofer/sarcasm                                               Sarcasm on Reddit                                   216MB  2018-05-27 08:19:04           1371  \n",
            "olistbr/marketing-funnel-olist                                Marketing Funnel by Olist                           275KB  2018-11-16 14:00:20            372  \n",
            "huffingtonpost/pollster-congressional-districts               Pollster Congressional Districts                    530KB  2018-11-07 04:49:42             98  \n",
            "cityofLA/los-angeles-international-airport-data               Los Angeles International Airport Data              123KB  2018-12-27 22:06:06           1203  \n",
            "septa97/100k-courseras-course-reviews-dataset                 100K Coursera's Course Reviews Dataset               12MB  2018-08-02 03:44:18            859  \n",
            "unitednations/un-general-debates                              UN General Debates                                   46MB  2017-09-05 23:12:36            808  \n"
          ],
          "name": "stdout"
        }
      ]
    },
    {
      "metadata": {
        "id": "fqNjdPHSoaYa",
        "colab_type": "code",
        "outputId": "243843d8-383c-4cf8-f948-9b2e6a15b8ca",
        "colab": {
          "base_uri": "https://localhost:8080/",
          "height": 51
        }
      },
      "cell_type": "code",
      "source": [
        "!ls"
      ],
      "execution_count": 11,
      "outputs": [
        {
          "output_type": "stream",
          "text": [
            " adc.json\t     'kaggle (1).json'\t kaggle.json   model\n",
            " bounding_boxes.csv  'kaggle (2).json'\t log\t       sample_data\n"
          ],
          "name": "stdout"
        }
      ]
    },
    {
      "metadata": {
        "id": "0hyJ4Rb5HMwH",
        "colab_type": "code",
        "outputId": "ce343651-f543-438f-f6f7-bb2fbb38ebf6",
        "colab": {
          "base_uri": "https://localhost:8080/",
          "height": 221
        }
      },
      "cell_type": "code",
      "source": [
        "# Copy the stackoverflow data set locally.\n",
        "!kaggle competitions download -p data/ humpback-whale-identification"
      ],
      "execution_count": 12,
      "outputs": [
        {
          "output_type": "stream",
          "text": [
            "Downloading sample_submission.csv to data\n",
            "\r  0% 0.00/498k [00:00<?, ?B/s]\n",
            "100% 498k/498k [00:00<00:00, 32.4MB/s]\n",
            "Downloading train.csv to data\n",
            "  0% 0.00/594k [00:00<?, ?B/s]\n",
            "100% 594k/594k [00:00<00:00, 35.6MB/s]\n",
            "Downloading test.zip to data\n",
            "100% 1.35G/1.35G [00:12<00:00, 101MB/s]\n",
            "100% 1.35G/1.35G [00:12<00:00, 116MB/s]\n",
            "Downloading train.zip to data\n",
            "100% 4.14G/4.16G [01:13<00:00, 54.3MB/s]\n",
            "100% 4.16G/4.16G [01:14<00:00, 60.3MB/s]\n"
          ],
          "name": "stdout"
        }
      ]
    },
    {
      "metadata": {
        "id": "462TPpriZNZe",
        "colab_type": "code",
        "outputId": "8383409f-e8d2-4a33-ece8-f7931ff8e7a6",
        "colab": {
          "base_uri": "https://localhost:8080/",
          "height": 51
        }
      },
      "cell_type": "code",
      "source": [
        "!ls"
      ],
      "execution_count": 13,
      "outputs": [
        {
          "output_type": "stream",
          "text": [
            " adc.json\t      data\t\t'kaggle (2).json'   log     sample_data\n",
            " bounding_boxes.csv  'kaggle (1).json'\t kaggle.json\t    model\n"
          ],
          "name": "stdout"
        }
      ]
    },
    {
      "metadata": {
        "id": "QxHEi4y6HygP",
        "colab_type": "code",
        "colab": {}
      },
      "cell_type": "code",
      "source": [
        "!mkdir data/train\n",
        "!mkdir data/test"
      ],
      "execution_count": 0,
      "outputs": []
    },
    {
      "metadata": {
        "id": "MRrbHVKiHK0O",
        "colab_type": "code",
        "colab": {}
      },
      "cell_type": "code",
      "source": [
        "!cp data/train.zip data/train/\n",
        "!cp data/test.zip data/test/"
      ],
      "execution_count": 0,
      "outputs": []
    },
    {
      "metadata": {
        "id": "8g3ASB53HLps",
        "colab_type": "code",
        "colab": {}
      },
      "cell_type": "code",
      "source": [
        "!cd data/train && unzip -o -q train.zip && cd ..\n",
        "!cd data/test && unzip -o -q test.zip && cd .."
      ],
      "execution_count": 0,
      "outputs": []
    },
    {
      "metadata": {
        "id": "uThU3xMkHBib",
        "colab_type": "code",
        "colab": {}
      },
      "cell_type": "code",
      "source": [
        "!rm data/train/train.zip\n",
        "!rm data/test/test.zip"
      ],
      "execution_count": 0,
      "outputs": []
    },
    {
      "metadata": {
        "id": "iHSAQtJjwjpc",
        "colab_type": "code",
        "colab": {}
      },
      "cell_type": "code",
      "source": [
        "import numpy as np \n",
        "import pandas as pd \n",
        "import os\n",
        "import matplotlib.pyplot as plt\n",
        "import matplotlib.image as mplimg\n",
        "from matplotlib.pyplot import imshow\n",
        "\n",
        "from sklearn.preprocessing import LabelEncoder\n",
        "from sklearn.preprocessing import OneHotEncoder\n",
        "\n",
        "from keras import layers\n",
        "from keras.preprocessing import image\n",
        "from keras.applications.imagenet_utils import preprocess_input\n",
        "from keras.layers import Input, Dense, Activation, BatchNormalization, Flatten, Conv2D\n",
        "from keras.layers import AveragePooling2D, MaxPooling2D, Dropout\n",
        "from keras.models import Model\n",
        "\n",
        "import keras.backend as K\n",
        "from keras.models import Sequential\n",
        "\n",
        "import warnings\n",
        "warnings.simplefilter(\"ignore\", category=DeprecationWarning)"
      ],
      "execution_count": 0,
      "outputs": []
    },
    {
      "metadata": {
        "id": "Ljl04uSCzv9V",
        "colab_type": "code",
        "outputId": "4d223b2b-4001-4d5a-92d5-064cddf237e8",
        "colab": {
          "base_uri": "https://localhost:8080/",
          "height": 204
        }
      },
      "cell_type": "code",
      "source": [
        "train_df = pd.read_csv(\"data/train.csv\")\n",
        "train_df.head()"
      ],
      "execution_count": 32,
      "outputs": [
        {
          "output_type": "execute_result",
          "data": {
            "text/html": [
              "<div>\n",
              "<style scoped>\n",
              "    .dataframe tbody tr th:only-of-type {\n",
              "        vertical-align: middle;\n",
              "    }\n",
              "\n",
              "    .dataframe tbody tr th {\n",
              "        vertical-align: top;\n",
              "    }\n",
              "\n",
              "    .dataframe thead th {\n",
              "        text-align: right;\n",
              "    }\n",
              "</style>\n",
              "<table border=\"1\" class=\"dataframe\">\n",
              "  <thead>\n",
              "    <tr style=\"text-align: right;\">\n",
              "      <th></th>\n",
              "      <th>Image</th>\n",
              "      <th>Id</th>\n",
              "    </tr>\n",
              "  </thead>\n",
              "  <tbody>\n",
              "    <tr>\n",
              "      <th>0</th>\n",
              "      <td>0000e88ab.jpg</td>\n",
              "      <td>w_f48451c</td>\n",
              "    </tr>\n",
              "    <tr>\n",
              "      <th>1</th>\n",
              "      <td>0001f9222.jpg</td>\n",
              "      <td>w_c3d896a</td>\n",
              "    </tr>\n",
              "    <tr>\n",
              "      <th>2</th>\n",
              "      <td>00029d126.jpg</td>\n",
              "      <td>w_20df2c5</td>\n",
              "    </tr>\n",
              "    <tr>\n",
              "      <th>3</th>\n",
              "      <td>00050a15a.jpg</td>\n",
              "      <td>new_whale</td>\n",
              "    </tr>\n",
              "    <tr>\n",
              "      <th>4</th>\n",
              "      <td>0005c1ef8.jpg</td>\n",
              "      <td>new_whale</td>\n",
              "    </tr>\n",
              "  </tbody>\n",
              "</table>\n",
              "</div>"
            ],
            "text/plain": [
              "           Image         Id\n",
              "0  0000e88ab.jpg  w_f48451c\n",
              "1  0001f9222.jpg  w_c3d896a\n",
              "2  00029d126.jpg  w_20df2c5\n",
              "3  00050a15a.jpg  new_whale\n",
              "4  0005c1ef8.jpg  new_whale"
            ]
          },
          "metadata": {
            "tags": []
          },
          "execution_count": 32
        }
      ]
    },
    {
      "metadata": {
        "id": "q-XYBm1_0A3L",
        "colab_type": "code",
        "colab": {}
      },
      "cell_type": "code",
      "source": [
        "def prepareImages(data, m, dataset):\n",
        "    print(\"Preparing images\")\n",
        "    X_train = np.zeros((m, 100, 100, 3))\n",
        "    count = 0\n",
        "    \n",
        "    for fig in data['Image']:\n",
        "        #load images into images of size 100x100x3\n",
        "        img = image.load_img(\"data/\"+dataset+\"/\"+fig, target_size=(100, 100, 3))\n",
        "        x = image.img_to_array(img)\n",
        "        x = preprocess_input(x)\n",
        "\n",
        "        X_train[count] = x\n",
        "        if (count%500 == 0):\n",
        "            print(\"Processing image: \", count+1, \", \", fig)\n",
        "        count += 1\n",
        "    \n",
        "    return X_train"
      ],
      "execution_count": 0,
      "outputs": []
    },
    {
      "metadata": {
        "id": "BJDwsW4U0Eh6",
        "colab_type": "code",
        "colab": {}
      },
      "cell_type": "code",
      "source": [
        "def prepare_labels(y):\n",
        "    values = np.array(y)\n",
        "    label_encoder = LabelEncoder()\n",
        "    integer_encoded = label_encoder.fit_transform(values)\n",
        "    # print(integer_encoded)\n",
        "\n",
        "    onehot_encoder = OneHotEncoder(sparse=False)\n",
        "    integer_encoded = integer_encoded.reshape(len(integer_encoded), 1)\n",
        "    onehot_encoded = onehot_encoder.fit_transform(integer_encoded)\n",
        "    # print(onehot_encoded)\n",
        "\n",
        "    y = onehot_encoded\n",
        "    # print(y.shape)\n",
        "    return y, label_encoder"
      ],
      "execution_count": 0,
      "outputs": []
    },
    {
      "metadata": {
        "id": "C2CeLm_h0I2-",
        "colab_type": "code",
        "outputId": "8b8df768-0843-4727-d310-0e24a2be07a8",
        "colab": {
          "base_uri": "https://localhost:8080/",
          "height": 901
        }
      },
      "cell_type": "code",
      "source": [
        "X = prepareImages(train_df, train_df.shape[0], \"train\")\n",
        "X /= 255"
      ],
      "execution_count": 22,
      "outputs": [
        {
          "output_type": "stream",
          "text": [
            "Preparing images\n",
            "Processing image:  1 ,  0000e88ab.jpg\n",
            "Processing image:  501 ,  04c72257b.jpg\n",
            "Processing image:  1001 ,  09cacb84d.jpg\n",
            "Processing image:  1501 ,  0ef961892.jpg\n",
            "Processing image:  2001 ,  141b56a1a.jpg\n",
            "Processing image:  2501 ,  199a417aa.jpg\n",
            "Processing image:  3001 ,  1ec170983.jpg\n",
            "Processing image:  3501 ,  23f084b93.jpg\n",
            "Processing image:  4001 ,  29163ad0b.jpg\n",
            "Processing image:  4501 ,  2e0fab120.jpg\n",
            "Processing image:  5001 ,  3347515d9.jpg\n",
            "Processing image:  5501 ,  3842d71dc.jpg\n",
            "Processing image:  6001 ,  3d7f4c7d5.jpg\n",
            "Processing image:  6501 ,  425f763ca.jpg\n",
            "Processing image:  7001 ,  4714400cd.jpg\n",
            "Processing image:  7501 ,  4c082fbdf.jpg\n",
            "Processing image:  8001 ,  50c683e23.jpg\n",
            "Processing image:  8501 ,  560d986ad.jpg\n",
            "Processing image:  9001 ,  5b68c83ed.jpg\n",
            "Processing image:  9501 ,  60410f111.jpg\n",
            "Processing image:  10001 ,  654951f81.jpg\n",
            "Processing image:  10501 ,  6a572256c.jpg\n",
            "Processing image:  11001 ,  6f96f55b6.jpg\n",
            "Processing image:  11501 ,  74da2b511.jpg\n",
            "Processing image:  12001 ,  7989d9a27.jpg\n",
            "Processing image:  12501 ,  7e5aa2d8a.jpg\n",
            "Processing image:  13001 ,  832382cfb.jpg\n",
            "Processing image:  13501 ,  87f6c0a15.jpg\n",
            "Processing image:  14001 ,  8cfc22e5d.jpg\n",
            "Processing image:  14501 ,  91dcfedcd.jpg\n",
            "Processing image:  15001 ,  97079398e.jpg\n",
            "Processing image:  15501 ,  9c2ad64a9.jpg\n",
            "Processing image:  16001 ,  a11956dff.jpg\n",
            "Processing image:  16501 ,  a5f9ffe86.jpg\n",
            "Processing image:  17001 ,  aaf1a967b.jpg\n",
            "Processing image:  17501 ,  af9a1ffc6.jpg\n",
            "Processing image:  18001 ,  b4e02531d.jpg\n",
            "Processing image:  18501 ,  ba2355ca6.jpg\n",
            "Processing image:  19001 ,  bf60e7fed.jpg\n",
            "Processing image:  19501 ,  c49f39ce3.jpg\n",
            "Processing image:  20001 ,  c960111d0.jpg\n",
            "Processing image:  20501 ,  ce7984d8a.jpg\n",
            "Processing image:  21001 ,  d38efaec9.jpg\n",
            "Processing image:  21501 ,  d831d28ee.jpg\n",
            "Processing image:  22001 ,  dd3ca2387.jpg\n",
            "Processing image:  22501 ,  e288d66cf.jpg\n",
            "Processing image:  23001 ,  e7cc793db.jpg\n",
            "Processing image:  23501 ,  ec8c7229d.jpg\n",
            "Processing image:  24001 ,  f1b850552.jpg\n",
            "Processing image:  24501 ,  f6af8a4b8.jpg\n",
            "Processing image:  25001 ,  fc09f2302.jpg\n"
          ],
          "name": "stdout"
        }
      ]
    },
    {
      "metadata": {
        "id": "brarh63tqRrS",
        "colab_type": "code",
        "outputId": "91de3f06-c183-43ec-dadf-4fad824a1283",
        "colab": {
          "base_uri": "https://localhost:8080/",
          "height": 105
        }
      },
      "cell_type": "code",
      "source": [
        "y, label_encoder = prepare_labels(train_df['Id'])"
      ],
      "execution_count": 35,
      "outputs": [
        {
          "output_type": "stream",
          "text": [
            "/usr/local/lib/python3.6/dist-packages/sklearn/preprocessing/_encoders.py:368: FutureWarning: The handling of integer data will change in version 0.22. Currently, the categories are determined based on the range [0, max(values)], while in the future they will be determined based on the unique values.\n",
            "If you want the future behaviour and silence this warning, you can specify \"categories='auto'\".\n",
            "In case you used a LabelEncoder before this OneHotEncoder to convert the categories to integers, then you can now use the OneHotEncoder directly.\n",
            "  warnings.warn(msg, FutureWarning)\n"
          ],
          "name": "stderr"
        }
      ]
    },
    {
      "metadata": {
        "id": "Y9-pAOO-qZRt",
        "colab_type": "code",
        "outputId": "4c5baebb-65b5-42d4-cebe-f17d603f85b7",
        "colab": {
          "base_uri": "https://localhost:8080/",
          "height": 34
        }
      },
      "cell_type": "code",
      "source": [
        "y.shape"
      ],
      "execution_count": 24,
      "outputs": [
        {
          "output_type": "execute_result",
          "data": {
            "text/plain": [
              "(25361, 5005)"
            ]
          },
          "metadata": {
            "tags": []
          },
          "execution_count": 24
        }
      ]
    },
    {
      "metadata": {
        "id": "YskWIGMIvqfd",
        "colab_type": "code",
        "outputId": "06a0a5f1-874c-4ebb-97ce-29f9640b7dbb",
        "colab": {
          "base_uri": "https://localhost:8080/",
          "height": 510
        }
      },
      "cell_type": "code",
      "source": [
        "model = Sequential()\n",
        "\n",
        "model.add(Conv2D(32, (7, 7), strides = (1, 1), name = 'conv0', input_shape = (100, 100, 3)))\n",
        "\n",
        "model.add(BatchNormalization(axis = 3, name = 'bn0'))\n",
        "model.add(Activation('relu'))\n",
        "\n",
        "model.add(MaxPooling2D((2, 2), name='max_pool'))\n",
        "model.add(Conv2D(64, (3, 3), strides = (1,1), name=\"conv1\"))\n",
        "model.add(Activation('relu'))\n",
        "model.add(AveragePooling2D((3, 3), name='avg_pool'))\n",
        "\n",
        "model.add(Flatten())\n",
        "model.add(Dense(500, activation=\"relu\", name='rl'))\n",
        "model.add(Dropout(0.8))\n",
        "model.add(Dense(y.shape[1], activation='softmax', name='sm'))\n",
        "\n",
        "model.compile(loss='categorical_crossentropy', optimizer=\"adam\", metrics=['accuracy'])\n",
        "model.summary()"
      ],
      "execution_count": 19,
      "outputs": [
        {
          "output_type": "stream",
          "text": [
            "_________________________________________________________________\n",
            "Layer (type)                 Output Shape              Param #   \n",
            "=================================================================\n",
            "conv0 (Conv2D)               (None, 94, 94, 32)        4736      \n",
            "_________________________________________________________________\n",
            "bn0 (BatchNormalization)     (None, 94, 94, 32)        128       \n",
            "_________________________________________________________________\n",
            "activation_5 (Activation)    (None, 94, 94, 32)        0         \n",
            "_________________________________________________________________\n",
            "max_pool (MaxPooling2D)      (None, 47, 47, 32)        0         \n",
            "_________________________________________________________________\n",
            "conv1 (Conv2D)               (None, 45, 45, 64)        18496     \n",
            "_________________________________________________________________\n",
            "activation_6 (Activation)    (None, 45, 45, 64)        0         \n",
            "_________________________________________________________________\n",
            "avg_pool (AveragePooling2D)  (None, 15, 15, 64)        0         \n",
            "_________________________________________________________________\n",
            "flatten_3 (Flatten)          (None, 14400)             0         \n",
            "_________________________________________________________________\n",
            "rl (Dense)                   (None, 500)               7200500   \n",
            "_________________________________________________________________\n",
            "dropout_3 (Dropout)          (None, 500)               0         \n",
            "_________________________________________________________________\n",
            "sm (Dense)                   (None, 5005)              2507505   \n",
            "=================================================================\n",
            "Total params: 9,731,365\n",
            "Trainable params: 9,731,301\n",
            "Non-trainable params: 64\n",
            "_________________________________________________________________\n"
          ],
          "name": "stdout"
        }
      ]
    },
    {
      "metadata": {
        "id": "mqJr9wOMN3KB",
        "colab_type": "code",
        "colab": {}
      },
      "cell_type": "code",
      "source": [
        "!mkdir training_1\n"
      ],
      "execution_count": 0,
      "outputs": []
    },
    {
      "metadata": {
        "id": "-ZbqEMzSOfzl",
        "colab_type": "code",
        "colab": {}
      },
      "cell_type": "code",
      "source": [
        "checkpoint_path = \"training_1/cp.ckpt\"\n",
        "checkpoint_dir = os.path.dirname(checkpoint_path)\n",
        "import tensorflow as tf\n",
        "\n",
        "# Create checkpoint callback\n",
        "cp_callback = tf.keras.callbacks.ModelCheckpoint(checkpoint_path, \n",
        "                                                 save_weights_only=True,\n",
        "                                                 verbose=1)"
      ],
      "execution_count": 0,
      "outputs": []
    },
    {
      "metadata": {
        "id": "8VSTkHRHvx_7",
        "colab_type": "code",
        "outputId": "0c764839-f74a-4fb6-a1a0-60197851b7b3",
        "colab": {
          "base_uri": "https://localhost:8080/",
          "height": 6834
        }
      },
      "cell_type": "code",
      "source": [
        "import gc\n",
        "history = model.fit(X, y, epochs=100, batch_size=100,callbacks = [cp_callback])\n",
        "gc.collect()"
      ],
      "execution_count": 28,
      "outputs": [
        {
          "output_type": "stream",
          "text": [
            "Epoch 1/100\n",
            "25361/25361 [==============================] - 31s 1ms/step - loss: 6.2240 - acc: 0.3794\n",
            "\n",
            "Epoch 00001: saving model to training_1/cp.ckpt\n",
            "Epoch 2/100\n",
            "25361/25361 [==============================] - 27s 1ms/step - loss: 5.9662 - acc: 0.3811\n",
            "\n",
            "Epoch 00002: saving model to training_1/cp.ckpt\n",
            "Epoch 3/100\n",
            "25361/25361 [==============================] - 27s 1ms/step - loss: 5.8351 - acc: 0.3811\n",
            "\n",
            "Epoch 00003: saving model to training_1/cp.ckpt\n",
            "Epoch 4/100\n",
            "25361/25361 [==============================] - 27s 1ms/step - loss: 5.7532 - acc: 0.3811\n",
            "\n",
            "Epoch 00004: saving model to training_1/cp.ckpt\n",
            "Epoch 5/100\n",
            "25361/25361 [==============================] - 27s 1ms/step - loss: 5.7205 - acc: 0.3811\n",
            "\n",
            "Epoch 00005: saving model to training_1/cp.ckpt\n",
            "Epoch 6/100\n",
            "25361/25361 [==============================] - 27s 1ms/step - loss: 5.6964 - acc: 0.3811\n",
            "\n",
            "Epoch 00006: saving model to training_1/cp.ckpt\n",
            "Epoch 7/100\n",
            "25361/25361 [==============================] - 27s 1ms/step - loss: 5.6681 - acc: 0.3811\n",
            "\n",
            "Epoch 00007: saving model to training_1/cp.ckpt\n",
            "Epoch 8/100\n",
            "25361/25361 [==============================] - 27s 1ms/step - loss: 5.6365 - acc: 0.3811\n",
            "\n",
            "Epoch 00008: saving model to training_1/cp.ckpt\n",
            "Epoch 9/100\n",
            "25361/25361 [==============================] - 27s 1ms/step - loss: 5.6063 - acc: 0.3811\n",
            "\n",
            "Epoch 00009: saving model to training_1/cp.ckpt\n",
            "Epoch 10/100\n",
            "25361/25361 [==============================] - 27s 1ms/step - loss: 5.5764 - acc: 0.3811\n",
            "\n",
            "Epoch 00010: saving model to training_1/cp.ckpt\n",
            "Epoch 11/100\n",
            "25361/25361 [==============================] - 27s 1ms/step - loss: 5.5413 - acc: 0.3811\n",
            "\n",
            "Epoch 00011: saving model to training_1/cp.ckpt\n",
            "Epoch 12/100\n",
            "25361/25361 [==============================] - 27s 1ms/step - loss: 5.4975 - acc: 0.3811\n",
            "\n",
            "Epoch 00012: saving model to training_1/cp.ckpt\n",
            "Epoch 13/100\n",
            "25361/25361 [==============================] - 27s 1ms/step - loss: 5.4370 - acc: 0.3811\n",
            "\n",
            "Epoch 00013: saving model to training_1/cp.ckpt\n",
            "Epoch 14/100\n",
            "25361/25361 [==============================] - 27s 1ms/step - loss: 5.3726 - acc: 0.3811\n",
            "\n",
            "Epoch 00014: saving model to training_1/cp.ckpt\n",
            "Epoch 15/100\n",
            "25361/25361 [==============================] - 27s 1ms/step - loss: 5.3008 - acc: 0.3811\n",
            "\n",
            "Epoch 00015: saving model to training_1/cp.ckpt\n",
            "Epoch 16/100\n",
            "25361/25361 [==============================] - 27s 1ms/step - loss: 5.2295 - acc: 0.3811\n",
            "\n",
            "Epoch 00016: saving model to training_1/cp.ckpt\n",
            "Epoch 17/100\n",
            "25361/25361 [==============================] - 27s 1ms/step - loss: 5.1392 - acc: 0.3811\n",
            "\n",
            "Epoch 00017: saving model to training_1/cp.ckpt\n",
            "Epoch 18/100\n",
            "25361/25361 [==============================] - 27s 1ms/step - loss: 5.0374 - acc: 0.3811\n",
            "\n",
            "Epoch 00018: saving model to training_1/cp.ckpt\n",
            "Epoch 19/100\n",
            "25361/25361 [==============================] - 27s 1ms/step - loss: 4.9122 - acc: 0.3811\n",
            "\n",
            "Epoch 00019: saving model to training_1/cp.ckpt\n",
            "Epoch 20/100\n",
            "25361/25361 [==============================] - 27s 1ms/step - loss: 4.7794 - acc: 0.3816\n",
            "\n",
            "Epoch 00020: saving model to training_1/cp.ckpt\n",
            "Epoch 21/100\n",
            "25361/25361 [==============================] - 27s 1ms/step - loss: 4.6268 - acc: 0.3818\n",
            "\n",
            "Epoch 00021: saving model to training_1/cp.ckpt\n",
            "Epoch 22/100\n",
            "25361/25361 [==============================] - 27s 1ms/step - loss: 4.4512 - acc: 0.3834\n",
            "\n",
            "Epoch 00022: saving model to training_1/cp.ckpt\n",
            "Epoch 23/100\n",
            "25361/25361 [==============================] - 27s 1ms/step - loss: 4.2388 - acc: 0.3870\n",
            "\n",
            "Epoch 00023: saving model to training_1/cp.ckpt\n",
            "Epoch 24/100\n",
            "25361/25361 [==============================] - 28s 1ms/step - loss: 4.0378 - acc: 0.3905\n",
            "\n",
            "Epoch 00024: saving model to training_1/cp.ckpt\n",
            "Epoch 25/100\n",
            "25361/25361 [==============================] - 28s 1ms/step - loss: 3.7927 - acc: 0.4011\n",
            "\n",
            "Epoch 00025: saving model to training_1/cp.ckpt\n",
            "Epoch 26/100\n",
            "25361/25361 [==============================] - 27s 1ms/step - loss: 3.5764 - acc: 0.4104\n",
            "\n",
            "Epoch 00026: saving model to training_1/cp.ckpt\n",
            "Epoch 27/100\n",
            "25361/25361 [==============================] - 28s 1ms/step - loss: 3.3543 - acc: 0.4250\n",
            "\n",
            "Epoch 00027: saving model to training_1/cp.ckpt\n",
            "Epoch 28/100\n",
            "25361/25361 [==============================] - 27s 1ms/step - loss: 3.1254 - acc: 0.4435\n",
            "\n",
            "Epoch 00028: saving model to training_1/cp.ckpt\n",
            "Epoch 29/100\n",
            "25361/25361 [==============================] - 28s 1ms/step - loss: 2.9051 - acc: 0.4583\n",
            "\n",
            "Epoch 00029: saving model to training_1/cp.ckpt\n",
            "Epoch 30/100\n",
            "25361/25361 [==============================] - 27s 1ms/step - loss: 2.7087 - acc: 0.4779\n",
            "\n",
            "Epoch 00030: saving model to training_1/cp.ckpt\n",
            "Epoch 31/100\n",
            "25361/25361 [==============================] - 28s 1ms/step - loss: 2.5125 - acc: 0.5053\n",
            "\n",
            "Epoch 00031: saving model to training_1/cp.ckpt\n",
            "Epoch 32/100\n",
            "25361/25361 [==============================] - 27s 1ms/step - loss: 2.3379 - acc: 0.5281\n",
            "\n",
            "Epoch 00032: saving model to training_1/cp.ckpt\n",
            "Epoch 33/100\n",
            "25361/25361 [==============================] - 27s 1ms/step - loss: 2.2155 - acc: 0.5427\n",
            "\n",
            "Epoch 00033: saving model to training_1/cp.ckpt\n",
            "Epoch 34/100\n",
            "25361/25361 [==============================] - 27s 1ms/step - loss: 2.0481 - acc: 0.5644\n",
            "\n",
            "Epoch 00034: saving model to training_1/cp.ckpt\n",
            "Epoch 35/100\n",
            "25361/25361 [==============================] - 27s 1ms/step - loss: 1.9263 - acc: 0.5841\n",
            "\n",
            "Epoch 00035: saving model to training_1/cp.ckpt\n",
            "Epoch 36/100\n",
            "25361/25361 [==============================] - 27s 1ms/step - loss: 1.7949 - acc: 0.6062\n",
            "\n",
            "Epoch 00036: saving model to training_1/cp.ckpt\n",
            "Epoch 37/100\n",
            "25361/25361 [==============================] - 27s 1ms/step - loss: 1.6763 - acc: 0.6250\n",
            "\n",
            "Epoch 00037: saving model to training_1/cp.ckpt\n",
            "Epoch 38/100\n",
            "25361/25361 [==============================] - 28s 1ms/step - loss: 1.6035 - acc: 0.6383\n",
            "\n",
            "Epoch 00038: saving model to training_1/cp.ckpt\n",
            "Epoch 39/100\n",
            "25361/25361 [==============================] - 27s 1ms/step - loss: 1.4972 - acc: 0.6542\n",
            "\n",
            "Epoch 00039: saving model to training_1/cp.ckpt\n",
            "Epoch 40/100\n",
            "25361/25361 [==============================] - 27s 1ms/step - loss: 1.4467 - acc: 0.6641\n",
            "\n",
            "Epoch 00040: saving model to training_1/cp.ckpt\n",
            "Epoch 41/100\n",
            "25361/25361 [==============================] - 27s 1ms/step - loss: 1.3690 - acc: 0.6761\n",
            "\n",
            "Epoch 00041: saving model to training_1/cp.ckpt\n",
            "Epoch 42/100\n",
            "25361/25361 [==============================] - 27s 1ms/step - loss: 1.2780 - acc: 0.6980\n",
            "\n",
            "Epoch 00042: saving model to training_1/cp.ckpt\n",
            "Epoch 43/100\n",
            "25361/25361 [==============================] - 27s 1ms/step - loss: 1.2123 - acc: 0.7063\n",
            "\n",
            "Epoch 00043: saving model to training_1/cp.ckpt\n",
            "Epoch 44/100\n",
            "25361/25361 [==============================] - 27s 1ms/step - loss: 1.1756 - acc: 0.7163\n",
            "\n",
            "Epoch 00044: saving model to training_1/cp.ckpt\n",
            "Epoch 45/100\n",
            "25361/25361 [==============================] - 27s 1ms/step - loss: 1.1254 - acc: 0.7240\n",
            "\n",
            "Epoch 00045: saving model to training_1/cp.ckpt\n",
            "Epoch 46/100\n",
            "25361/25361 [==============================] - 27s 1ms/step - loss: 1.0681 - acc: 0.7375\n",
            "\n",
            "Epoch 00046: saving model to training_1/cp.ckpt\n",
            "Epoch 47/100\n",
            "25361/25361 [==============================] - 27s 1ms/step - loss: 1.0355 - acc: 0.7449\n",
            "\n",
            "Epoch 00047: saving model to training_1/cp.ckpt\n",
            "Epoch 48/100\n",
            "25361/25361 [==============================] - 27s 1ms/step - loss: 1.0128 - acc: 0.7502\n",
            "\n",
            "Epoch 00048: saving model to training_1/cp.ckpt\n",
            "Epoch 49/100\n",
            "25361/25361 [==============================] - 27s 1ms/step - loss: 0.9560 - acc: 0.7602\n",
            "\n",
            "Epoch 00049: saving model to training_1/cp.ckpt\n",
            "Epoch 50/100\n",
            "25361/25361 [==============================] - 27s 1ms/step - loss: 0.9309 - acc: 0.7683\n",
            "\n",
            "Epoch 00050: saving model to training_1/cp.ckpt\n",
            "Epoch 51/100\n",
            "25361/25361 [==============================] - 27s 1ms/step - loss: 0.9121 - acc: 0.7712\n",
            "\n",
            "Epoch 00051: saving model to training_1/cp.ckpt\n",
            "Epoch 52/100\n",
            "25361/25361 [==============================] - 27s 1ms/step - loss: 0.8611 - acc: 0.7813\n",
            "\n",
            "Epoch 00052: saving model to training_1/cp.ckpt\n",
            "Epoch 53/100\n",
            "25361/25361 [==============================] - 27s 1ms/step - loss: 0.8310 - acc: 0.7880\n",
            "\n",
            "Epoch 00053: saving model to training_1/cp.ckpt\n",
            "Epoch 54/100\n",
            "25361/25361 [==============================] - 27s 1ms/step - loss: 0.8039 - acc: 0.7953\n",
            "\n",
            "Epoch 00054: saving model to training_1/cp.ckpt\n",
            "Epoch 55/100\n",
            "25361/25361 [==============================] - 28s 1ms/step - loss: 0.7946 - acc: 0.7984\n",
            "\n",
            "Epoch 00055: saving model to training_1/cp.ckpt\n",
            "Epoch 56/100\n",
            "25361/25361 [==============================] - 28s 1ms/step - loss: 0.7529 - acc: 0.8069\n",
            "\n",
            "Epoch 00056: saving model to training_1/cp.ckpt\n",
            "Epoch 57/100\n",
            "25361/25361 [==============================] - 27s 1ms/step - loss: 0.7546 - acc: 0.8046\n",
            "\n",
            "Epoch 00057: saving model to training_1/cp.ckpt\n",
            "Epoch 58/100\n",
            "25361/25361 [==============================] - 28s 1ms/step - loss: 0.7219 - acc: 0.8135\n",
            "\n",
            "Epoch 00058: saving model to training_1/cp.ckpt\n",
            "Epoch 59/100\n",
            "25361/25361 [==============================] - 27s 1ms/step - loss: 0.7083 - acc: 0.8166\n",
            "\n",
            "Epoch 00059: saving model to training_1/cp.ckpt\n",
            "Epoch 60/100\n",
            "25361/25361 [==============================] - 27s 1ms/step - loss: 0.7014 - acc: 0.8190\n",
            "\n",
            "Epoch 00060: saving model to training_1/cp.ckpt\n",
            "Epoch 61/100\n",
            "25361/25361 [==============================] - 27s 1ms/step - loss: 0.6723 - acc: 0.8273\n",
            "\n",
            "Epoch 00061: saving model to training_1/cp.ckpt\n",
            "Epoch 62/100\n",
            "25361/25361 [==============================] - 27s 1ms/step - loss: 0.6432 - acc: 0.8299\n",
            "\n",
            "Epoch 00062: saving model to training_1/cp.ckpt\n",
            "Epoch 63/100\n",
            "25361/25361 [==============================] - 27s 1ms/step - loss: 0.6396 - acc: 0.8363\n",
            "\n",
            "Epoch 00063: saving model to training_1/cp.ckpt\n",
            "Epoch 64/100\n",
            "25361/25361 [==============================] - 27s 1ms/step - loss: 0.6226 - acc: 0.8378\n",
            "\n",
            "Epoch 00064: saving model to training_1/cp.ckpt\n",
            "Epoch 65/100\n",
            "25361/25361 [==============================] - 27s 1ms/step - loss: 0.6142 - acc: 0.8385\n",
            "\n",
            "Epoch 00065: saving model to training_1/cp.ckpt\n",
            "Epoch 66/100\n",
            "25361/25361 [==============================] - 28s 1ms/step - loss: 0.6224 - acc: 0.8392\n",
            "\n",
            "Epoch 00066: saving model to training_1/cp.ckpt\n",
            "Epoch 67/100\n",
            "25361/25361 [==============================] - 27s 1ms/step - loss: 0.5937 - acc: 0.8459\n",
            "\n",
            "Epoch 00067: saving model to training_1/cp.ckpt\n",
            "Epoch 68/100\n",
            "25361/25361 [==============================] - 27s 1ms/step - loss: 0.5657 - acc: 0.8491\n",
            "\n",
            "Epoch 00068: saving model to training_1/cp.ckpt\n",
            "Epoch 69/100\n",
            "25361/25361 [==============================] - 27s 1ms/step - loss: 0.5648 - acc: 0.8523\n",
            "\n",
            "Epoch 00069: saving model to training_1/cp.ckpt\n",
            "Epoch 70/100\n",
            "25361/25361 [==============================] - 27s 1ms/step - loss: 0.5514 - acc: 0.8534\n",
            "\n",
            "Epoch 00070: saving model to training_1/cp.ckpt\n",
            "Epoch 71/100\n",
            "25361/25361 [==============================] - 27s 1ms/step - loss: 0.5409 - acc: 0.8586\n",
            "\n",
            "Epoch 00071: saving model to training_1/cp.ckpt\n",
            "Epoch 72/100\n",
            "25361/25361 [==============================] - 28s 1ms/step - loss: 0.5220 - acc: 0.8626\n",
            "\n",
            "Epoch 00072: saving model to training_1/cp.ckpt\n",
            "Epoch 73/100\n",
            "25361/25361 [==============================] - 27s 1ms/step - loss: 0.5192 - acc: 0.8629\n",
            "\n",
            "Epoch 00073: saving model to training_1/cp.ckpt\n",
            "Epoch 74/100\n",
            "25361/25361 [==============================] - 27s 1ms/step - loss: 0.5187 - acc: 0.8604\n",
            "\n",
            "Epoch 00074: saving model to training_1/cp.ckpt\n",
            "Epoch 75/100\n",
            "25361/25361 [==============================] - 27s 1ms/step - loss: 0.5165 - acc: 0.8644\n",
            "\n",
            "Epoch 00075: saving model to training_1/cp.ckpt\n",
            "Epoch 76/100\n",
            "25361/25361 [==============================] - 27s 1ms/step - loss: 0.4961 - acc: 0.8720\n",
            "\n",
            "Epoch 00076: saving model to training_1/cp.ckpt\n",
            "Epoch 77/100\n",
            "25361/25361 [==============================] - 27s 1ms/step - loss: 0.4965 - acc: 0.8693\n",
            "\n",
            "Epoch 00077: saving model to training_1/cp.ckpt\n",
            "Epoch 78/100\n",
            "25361/25361 [==============================] - 27s 1ms/step - loss: 0.4821 - acc: 0.8726\n",
            "\n",
            "Epoch 00078: saving model to training_1/cp.ckpt\n",
            "Epoch 79/100\n",
            "25361/25361 [==============================] - 27s 1ms/step - loss: 0.4849 - acc: 0.8703\n",
            "\n",
            "Epoch 00079: saving model to training_1/cp.ckpt\n",
            "Epoch 80/100\n",
            "25361/25361 [==============================] - 27s 1ms/step - loss: 0.4554 - acc: 0.8767\n",
            "\n",
            "Epoch 00080: saving model to training_1/cp.ckpt\n",
            "Epoch 81/100\n",
            "25361/25361 [==============================] - 27s 1ms/step - loss: 0.4800 - acc: 0.8738\n",
            "\n",
            "Epoch 00081: saving model to training_1/cp.ckpt\n",
            "Epoch 82/100\n",
            "25361/25361 [==============================] - 27s 1ms/step - loss: 0.4364 - acc: 0.8839\n",
            "\n",
            "Epoch 00082: saving model to training_1/cp.ckpt\n",
            "Epoch 83/100\n",
            "25361/25361 [==============================] - 27s 1ms/step - loss: 0.4581 - acc: 0.8787\n",
            "\n",
            "Epoch 00083: saving model to training_1/cp.ckpt\n",
            "Epoch 84/100\n",
            "25361/25361 [==============================] - 28s 1ms/step - loss: 0.4245 - acc: 0.8870\n",
            "\n",
            "Epoch 00084: saving model to training_1/cp.ckpt\n",
            "Epoch 85/100\n",
            "25361/25361 [==============================] - 27s 1ms/step - loss: 0.4193 - acc: 0.8885\n",
            "\n",
            "Epoch 00085: saving model to training_1/cp.ckpt\n",
            "Epoch 86/100\n",
            "25361/25361 [==============================] - 27s 1ms/step - loss: 0.4307 - acc: 0.8842\n",
            "\n",
            "Epoch 00086: saving model to training_1/cp.ckpt\n",
            "Epoch 87/100\n",
            "25361/25361 [==============================] - 27s 1ms/step - loss: 0.4319 - acc: 0.8838\n",
            "\n",
            "Epoch 00087: saving model to training_1/cp.ckpt\n",
            "Epoch 88/100\n",
            "25361/25361 [==============================] - 27s 1ms/step - loss: 0.4159 - acc: 0.8910\n",
            "\n",
            "Epoch 00088: saving model to training_1/cp.ckpt\n",
            "Epoch 89/100\n",
            "25361/25361 [==============================] - 27s 1ms/step - loss: 0.4234 - acc: 0.8881\n",
            "\n",
            "Epoch 00089: saving model to training_1/cp.ckpt\n",
            "Epoch 90/100\n",
            "25361/25361 [==============================] - 27s 1ms/step - loss: 0.4185 - acc: 0.8898\n",
            "\n",
            "Epoch 00090: saving model to training_1/cp.ckpt\n",
            "Epoch 91/100\n",
            "25361/25361 [==============================] - 27s 1ms/step - loss: 0.4022 - acc: 0.8934\n",
            "\n",
            "Epoch 00091: saving model to training_1/cp.ckpt\n",
            "Epoch 92/100\n",
            "25361/25361 [==============================] - 27s 1ms/step - loss: 0.3991 - acc: 0.8944\n",
            "\n",
            "Epoch 00092: saving model to training_1/cp.ckpt\n",
            "Epoch 93/100\n",
            "25361/25361 [==============================] - 27s 1ms/step - loss: 0.3984 - acc: 0.8952\n",
            "\n",
            "Epoch 00093: saving model to training_1/cp.ckpt\n",
            "Epoch 94/100\n",
            "25361/25361 [==============================] - 27s 1ms/step - loss: 0.4057 - acc: 0.8921\n",
            "\n",
            "Epoch 00094: saving model to training_1/cp.ckpt\n",
            "Epoch 95/100\n",
            "25361/25361 [==============================] - 27s 1ms/step - loss: 0.3824 - acc: 0.8986\n",
            "\n",
            "Epoch 00095: saving model to training_1/cp.ckpt\n",
            "Epoch 96/100\n",
            "25361/25361 [==============================] - 27s 1ms/step - loss: 0.3910 - acc: 0.8955\n",
            "\n",
            "Epoch 00096: saving model to training_1/cp.ckpt\n",
            "Epoch 97/100\n",
            "25361/25361 [==============================] - 27s 1ms/step - loss: 0.3905 - acc: 0.8980\n",
            "\n",
            "Epoch 00097: saving model to training_1/cp.ckpt\n",
            "Epoch 98/100\n",
            "25361/25361 [==============================] - 27s 1ms/step - loss: 0.3709 - acc: 0.9018\n",
            "\n",
            "Epoch 00098: saving model to training_1/cp.ckpt\n",
            "Epoch 99/100\n",
            "25361/25361 [==============================] - 27s 1ms/step - loss: 0.3696 - acc: 0.9032\n",
            "\n",
            "Epoch 00099: saving model to training_1/cp.ckpt\n",
            "Epoch 100/100\n",
            "25361/25361 [==============================] - 27s 1ms/step - loss: 0.3589 - acc: 0.9058\n",
            "\n",
            "Epoch 00100: saving model to training_1/cp.ckpt\n"
          ],
          "name": "stdout"
        },
        {
          "output_type": "execute_result",
          "data": {
            "text/plain": [
              "0"
            ]
          },
          "metadata": {
            "tags": []
          },
          "execution_count": 28
        }
      ]
    },
    {
      "metadata": {
        "id": "E5Z_ksykv7_4",
        "colab_type": "code",
        "outputId": "1ab0ef58-ae80-406d-822b-e5fa2cb68a66",
        "colab": {
          "base_uri": "https://localhost:8080/",
          "height": 376
        }
      },
      "cell_type": "code",
      "source": [
        "plt.plot(history.history['acc'])\n",
        "plt.title('Model accuracy')\n",
        "plt.ylabel('Accuracy')\n",
        "plt.xlabel('Epoch')\n",
        "plt.show()"
      ],
      "execution_count": 29,
      "outputs": [
        {
          "output_type": "display_data",
          "data": {
            "image/png": "[encoded data removed]",
            "text/plain": [
              "<matplotlib.figure.Figure at 0x7f3c37645780>"
            ]
          },
          "metadata": {
            "tags": []
          }
        }
      ]
    },
    {
      "metadata": {
        "id": "cMQTiR6tr4aX",
        "colab_type": "code",
        "colab": {}
      },
      "cell_type": "code",
      "source": [
        "checkpoint_path = \"training_1/cp.ckpt\"\n",
        "model.load_weights(checkpoint_path)"
      ],
      "execution_count": 0,
      "outputs": []
    },
    {
      "metadata": {
        "id": "4YK-UdXkEZ6l",
        "colab_type": "code",
        "outputId": "b3b97e80-25af-49d2-a0be-86be22e282fe",
        "colab": {
          "base_uri": "https://localhost:8080/",
          "height": 34
        }
      },
      "cell_type": "code",
      "source": [
        "test = os.listdir(\"data/test/\")\n",
        "print(len(test))"
      ],
      "execution_count": 21,
      "outputs": [
        {
          "output_type": "stream",
          "text": [
            "7960\n"
          ],
          "name": "stdout"
        }
      ]
    },
    {
      "metadata": {
        "id": "Vt_SSpzbqdLE",
        "colab_type": "code",
        "colab": {}
      },
      "cell_type": "code",
      "source": [
        "col = ['Image']\n",
        "test_df = pd.DataFrame(test, columns=col)\n",
        "test_df['Id'] = ''"
      ],
      "execution_count": 0,
      "outputs": []
    },
    {
      "metadata": {
        "id": "9Ka2p7oKrAqM",
        "colab_type": "code",
        "outputId": "fe6bdba5-ef79-4c34-d842-4d96bb260a7d",
        "colab": {
          "base_uri": "https://localhost:8080/",
          "height": 306
        }
      },
      "cell_type": "code",
      "source": [
        "X_Test = prepareImages(test_df, test_df.shape[0], \"test\")\n",
        "X_Test /= 255"
      ],
      "execution_count": 23,
      "outputs": [
        {
          "output_type": "stream",
          "text": [
            "Preparing images\n",
            "Processing image:  1 ,  f34be206d.jpg\n",
            "Processing image:  501 ,  9d91ee409.jpg\n",
            "Processing image:  1001 ,  ab3b9b4d0.jpg\n",
            "Processing image:  1501 ,  cc9183037.jpg\n",
            "Processing image:  2001 ,  759493d25.jpg\n",
            "Processing image:  2501 ,  3d1d7b0e3.jpg\n",
            "Processing image:  3001 ,  2c4035b6b.jpg\n",
            "Processing image:  3501 ,  089ea7ad4.jpg\n",
            "Processing image:  4001 ,  f29b10677.jpg\n",
            "Processing image:  4501 ,  ef535e775.jpg\n",
            "Processing image:  5001 ,  d4162ccc2.jpg\n",
            "Processing image:  5501 ,  3f39da55c.jpg\n",
            "Processing image:  6001 ,  07f73b14c.jpg\n",
            "Processing image:  6501 ,  f3d299bf1.jpg\n",
            "Processing image:  7001 ,  75d43877f.jpg\n",
            "Processing image:  7501 ,  18c1e0336.jpg\n"
          ],
          "name": "stdout"
        }
      ]
    },
    {
      "metadata": {
        "id": "FqidoAtPqgap",
        "colab_type": "code",
        "colab": {
          "base_uri": "https://localhost:8080/",
          "height": 34
        },
        "outputId": "a4d3fdef-c7b6-4625-88bd-fe0711e62f70"
      },
      "cell_type": "code",
      "source": [
        "predictions = model.predict(np.array(X_Test), verbose=1)\n"
      ],
      "execution_count": 24,
      "outputs": [
        {
          "output_type": "stream",
          "text": [
            "7960/7960 [==============================] - 7s 877us/step\n"
          ],
          "name": "stdout"
        }
      ]
    },
    {
      "metadata": {
        "id": "e7GeTxUB1LV6",
        "colab_type": "code",
        "colab": {}
      },
      "cell_type": "code",
      "source": [
        "for i, pred in enumerate(predictions):\n",
        "    test_df.loc[i, 'Id'] = ' '.join(label_encoder.inverse_transform(pred.argsort()[-5:][::-1]))"
      ],
      "execution_count": 0,
      "outputs": []
    },
    {
      "metadata": {
        "id": "IOZPpppV1P75",
        "colab_type": "code",
        "colab": {
          "base_uri": "https://localhost:8080/",
          "height": 204
        },
        "outputId": "bd2ef35b-b2b7-48a3-9f3a-a2e40397da44"
      },
      "cell_type": "code",
      "source": [
        "print(test_df.head(10))\n",
        "test_df.to_csv('submission.csv', index=False)"
      ],
      "execution_count": 38,
      "outputs": [
        {
          "output_type": "stream",
          "text": [
            "           Image                                                 Id\n",
            "0  f34be206d.jpg  new_whale w_c6b4d61 w_700ebb4 w_9c506f6 w_e1ffbe2\n",
            "1  24e2e1bb6.jpg  new_whale w_23a388d w_c6b4d61 w_0369a5c w_08630fd\n",
            "2  6c40e9463.jpg  new_whale w_51e7506 w_cd4cb49 w_03670aa w_343f088\n",
            "3  a61f6c50c.jpg  new_whale w_0ee7878 w_eba33fb w_01cbbbd w_5d5c6a6\n",
            "4  5628e59a9.jpg  new_whale w_d8cb231 w_3de579a w_aaf3463 w_deda5f7\n",
            "5  d7b4d79f4.jpg  new_whale w_3de579a w_bc285a6 w_c058057 w_985d205\n",
            "6  4774d682f.jpg  new_whale w_fd906cc w_0135f5f w_edce644 w_2b069ba\n",
            "7  507683be4.jpg  new_whale w_3eae264 w_27597ff w_26c0ffd w_564a34b\n",
            "8  95b9e0e14.jpg  new_whale w_e906edd w_700ebb4 w_778e474 w_9d86594\n",
            "9  8392ed906.jpg  new_whale w_066ddc5 w_6ed6320 w_e13f4e8 w_7b098ce\n"
          ],
          "name": "stdout"
        }
      ]
    },
    {
      "metadata": {
        "id": "pEm6RXN7rJ60",
        "colab_type": "code",
        "colab": {}
      },
      "cell_type": "code",
      "source": [
        "from google.colab import files\n",
        "\n",
        "files.download('submission.csv')"
      ],
      "execution_count": 0,
      "outputs": []
    },
    {
      "metadata": {
        "id": "lpz7sD4LrnXo",
        "colab_type": "code",
        "colab": {
          "base_uri": "https://localhost:8080/",
          "height": 34
        },
        "outputId": "d959bab4-531f-4353-8d1e-c8deb3652501"
      },
      "cell_type": "code",
      "source": [
        "!ls training_1/"
      ],
      "execution_count": 4,
      "outputs": [
        {
          "output_type": "stream",
          "text": [
            "cp.ckpt\n"
          ],
          "name": "stdout"
        }
      ]
    },
    {
      "metadata": {
        "id": "3IIQRJxHrrxd",
        "colab_type": "code",
        "colab": {}
      },
      "cell_type": "code",
      "source": [
        ""
      ],
      "execution_count": 0,
      "outputs": []
    }
  ]
}